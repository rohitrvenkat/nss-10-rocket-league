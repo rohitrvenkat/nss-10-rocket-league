{
 "cells": [
  {
   "cell_type": "code",
   "execution_count": null,
   "metadata": {},
   "outputs": [],
   "source": [
    "# Import libaries\n",
    "import pandas as pd\n",
    "import numpy as np\n",
    "import matplotlib.pyplot as plt\n",
    "import seaborn as sns\n",
    "from sklearn.pipeline import Pipeline\n",
    "from sklearn.model_selection import train_test_split\n",
    "from sklearn.preprocessing import StandardScaler, MinMaxScaler, RobustScaler, PolynomialFeatures\n",
    "from sklearn.linear_model import LogisticRegression\n",
    "from sklearn.metrics import accuracy_score, confusion_matrix, classification_report, ConfusionMatrixDisplay"
   ]
  },
  {
   "cell_type": "code",
   "execution_count": null,
   "metadata": {},
   "outputs": [],
   "source": [
    "# Set view options\n",
    "pd.set_option('display.max_columns', 150)\n",
    "pd.set_option('display.max_rows', 100)"
   ]
  },
  {
   "cell_type": "code",
   "execution_count": null,
   "metadata": {},
   "outputs": [],
   "source": [
    "train = pd.read_csv('../data/train.csv')\n",
    "\n",
    "train['amount_collected_per_min'] = train['amount_collected'] / train['duration'] * 60\n",
    "train['amount_stolen_per_min'] = train['amount_stolen'] / train['duration'] * 60\n",
    "train['amount_collected_big_per_min'] = train['amount_collected_big'] / train['duration'] * 60\n",
    "train['amount_stolen_big_per_min'] = train['amount_stolen_big'] / train['duration'] * 60\n",
    "train['amount_collected_small_per_min'] = train['amount_collected_small'] / train['duration'] * 60\n",
    "train['amount_stolen_small_per_min'] = train['amount_stolen_small'] / train['duration'] * 60\n",
    "train['count_collected_big_per_min'] = train['count_collected_big'] / train['duration'] * 60\n",
    "train['count_stolen_big_per_min'] = train['count_stolen_big'] / train['duration'] * 60\n",
    "train['count_collected_small_per_min'] = train['count_collected_small'] / train['duration'] * 60\n",
    "train['count_stolen_small_per_min'] = train['count_stolen_small'] / train['duration'] * 60\n",
    "train['amount_overfill_per_min'] = train['amount_overfill'] / train['duration'] * 60\n",
    "train['amount_overfill_stolen_per_min'] = train['amount_overfill_stolen'] / train['duration'] * 60\n",
    "train['amount_used_while_supersonic_per_min'] = train['amount_used_while_supersonic'] / train['duration'] * 60\n",
    "train['total_distance_per_min'] = train['total_distance'] / train['duration'] * 60\n",
    "train['time_powerslide_per_min'] = train['time_powerslide'] / train['duration'] * 60\n",
    "train['count_powerslide_per_min'] = train['count_powerslide'] / train['duration'] * 60\n",
    "train['demos_inflicted_per_min'] = train['demos_inflicted'] / train['duration'] * 60\n",
    "train['demos_taken_per_min'] = train['demos_taken'] / train['duration'] * 60\n",
    "\n",
    "variables = [\n",
    "        'duration', \n",
    "        'possession_time', \n",
    "        'time_in_side', \n",
    "        'shots', \n",
    "        'goals', \n",
    "        'saves', \n",
    "        'score', \n",
    "        'shooting_percentage',\n",
    "        'bpm',\n",
    "        'bcpm', \n",
    "        'avg_amount', \n",
    "        'amount_collected_per_min', \n",
    "        'amount_stolen_per_min', \n",
    "        'amount_collected_big_per_min', \n",
    "        'amount_stolen_big_per_min', \n",
    "        'amount_collected_small_per_min', \n",
    "        'amount_stolen_small_per_min', \n",
    "        'count_collected_big_per_min', \n",
    "        'count_stolen_big_per_min',\n",
    "        'count_collected_small_per_min', \n",
    "        'count_stolen_small_per_min', \n",
    "        'amount_overfill_per_min', \n",
    "        'amount_overfill_stolen_per_min', \n",
    "        'amount_used_while_supersonic_per_min', \n",
    "        'percent_zero_boost', \n",
    "        'percent_full_boost',\n",
    "        'percent_boost_0_25', \n",
    "        'percent_boost_25_50', \n",
    "        'percent_boost_50_75', \n",
    "        'percent_boost_75_100', \n",
    "        'avg_speed', \n",
    "        'total_distance_per_min', \n",
    "        'time_powerslide_per_min', \n",
    "        'count_powerslide_per_min', \n",
    "        'avg_powerslide_duration', \n",
    "        'avg_speed_percentage', \n",
    "        'percent_slow_speed', \n",
    "        'percent_boost_speed', \n",
    "        'percent_supersonic_speed', \n",
    "        'percent_ground', \n",
    "        'percent_low_air', \n",
    "        'percent_high_air', \n",
    "        'avg_distance_to_ball',\n",
    "        'avg_distance_to_ball_possession',\n",
    "        'avg_distance_to_ball_no_possession', \n",
    "        'percent_defensive_third',\n",
    "        'percent_offensive_third', \n",
    "        'percent_neutral_third', \n",
    "        'percent_defensive_half', \n",
    "        'percent_offensive_half', \n",
    "        'percent_behind_ball',\n",
    "        'percent_infront_ball', \n",
    "        'demos_inflicted_per_min', \n",
    "        'demos_taken_per_min'\n",
    "]"
   ]
  },
  {
   "cell_type": "code",
   "execution_count": null,
   "metadata": {},
   "outputs": [],
   "source": [
    "heatmap_df = train.groupby(['match_id', 'rank'])[variables].mean().reset_index()\n",
    "heatmap_df = heatmap_df.drop(columns = 'match_id')\n",
    "heatmap_df['rank'] = heatmap_df['rank'].map({'bronze': 1, 'silver': 2, 'gold': 3, 'platinum': 4, 'diamond': 5, 'champion': 6})\n",
    "\n",
    "plt.figure(figsize = (32, 32), dpi = 600)\n",
    "corr = heatmap_df.corr()\n",
    "mask = np.triu(np.ones_like(corr, dtype = bool))\n",
    "sns.heatmap(corr, mask = mask, annot = True, fmt = '.2f', cmap = plt.cm.RdBu_r, cbar = False)\n",
    "plt.show()"
   ]
  },
  {
   "cell_type": "code",
   "execution_count": null,
   "metadata": {},
   "outputs": [],
   "source": [
    "heatmap_df = train.groupby(['match_id', 'rank'])[variables].std().reset_index()\n",
    "heatmap_df = heatmap_df.drop(columns = {'match_id', 'duration'})\n",
    "heatmap_df['rank'] = heatmap_df['rank'].map({'bronze': 1, 'silver': 2, 'gold': 3, 'platinum': 4, 'diamond': 5, 'champion': 6})\n",
    "\n",
    "plt.figure(figsize = (32, 32), dpi = 600)\n",
    "corr = heatmap_df.corr()\n",
    "mask = np.triu(np.ones_like(corr, dtype=bool))\n",
    "sns.heatmap(corr, mask = mask, annot = True, fmt = '.2f', cmap = plt.cm.RdBu_r, cbar = False)\n",
    "plt.show()"
   ]
  },
  {
   "cell_type": "code",
   "execution_count": null,
   "metadata": {},
   "outputs": [],
   "source": [
    "train_mean = train.groupby(['match_id', 'rank'])[variables].mean().reset_index()\n",
    "train_std = train.groupby(['match_id', 'rank'])[variables].std().reset_index()            \n",
    "train_prepped = train_mean.merge(train_std, on = ('match_id', 'rank'), suffixes = ('', '_std'))\n",
    "\n",
    "variables_mean_std = variables + [var + '_std' for var in variables]\n",
    "X = train_prepped[variables_mean_std].drop(columns = 'duration_std')\n",
    "y = train_prepped['rank']\n",
    "\n",
    "X_train, X_test, y_train, y_test = train_test_split(X, y, test_size = 0.2, random_state = 42, stratify = y)"
   ]
  },
  {
   "cell_type": "code",
   "execution_count": null,
   "metadata": {},
   "outputs": [],
   "source": [
    "features = [\n",
    "    'shots', \n",
    "    'saves',\n",
    "    'score',\n",
    "    'bpm',\n",
    "    'bcpm',\n",
    "    'count_collected_small_per_min',\n",
    "    'percent_full_boost',\n",
    "    'percent_boost_0_25',\n",
    "    'percent_boost_75_100', \n",
    "    'avg_speed',\n",
    "    'total_distance_per_min',\n",
    "    'avg_powerslide_duration',\n",
    "    'time_powerslide_per_min',\n",
    "    'count_powerslide_per_min',\n",
    "    'percent_slow_speed', \n",
    "    'percent_supersonic_speed',\n",
    "    'percent_ground',\n",
    "    'percent_low_air',\n",
    "    'avg_distance_to_ball',\n",
    "    'percent_behind_ball'\n",
    "]\n",
    "\n",
    "pipeline = Pipeline(\n",
    "    steps = [\n",
    "        ('scale', StandardScaler()),\n",
    "        ('pf', PolynomialFeatures(interaction_only = True, include_bias = False)),\n",
    "        ('logreg', LogisticRegression(max_iter = 10000))\n",
    "    ]\n",
    ")\n",
    "\n",
    "pipeline.fit(X_train[features], y_train)\n",
    "pipeline.score(X_test[features], y_test)"
   ]
  },
  {
   "cell_type": "code",
   "execution_count": null,
   "metadata": {},
   "outputs": [],
   "source": [
    "print(classification_report(y_test, pipeline.predict(X_test[features]), zero_division = 0))"
   ]
  },
  {
   "cell_type": "code",
   "execution_count": null,
   "metadata": {},
   "outputs": [],
   "source": [
    "test = pd.read_csv('../data/test.csv')\n",
    "\n",
    "test['total_distance_per_min'] = test['total_distance'] / test['duration'] * 60\n",
    "test['time_powerslide_per_min'] = test['time_powerslide'] / test['duration'] * 60\n",
    "test['count_powerslide_per_min'] = test['count_powerslide'] / test['duration'] * 60\n",
    "test['amount_collected_big_per_min'] = test['amount_collected_big'] / test['duration'] * 60\n",
    "test['amount_collected_small_per_min'] = test['amount_collected_small'] / test['duration'] * 60\n",
    "test['count_collected_big_per_min'] = test['count_collected_big'] / test['duration'] * 60\n",
    "test['count_collected_small_per_min'] = test['count_collected_small'] / test['duration'] * 60\n",
    "test['demos_inflicted_per_min'] = test['demos_inflicted'] / test['duration'] * 60\n",
    "test['demos_taken_per_min'] = test['demos_taken'] / test['duration'] * 60"
   ]
  },
  {
   "cell_type": "code",
   "execution_count": null,
   "metadata": {},
   "outputs": [],
   "source": [
    "test = test.groupby('match_id')[features].mean().reset_index()\n",
    "\n",
    "ranks = { 'bronze': 1, 'silver': 2, 'gold': 3, 'platinum': 4, 'diamond': 5, 'champion': 6 }\n",
    "y_pred = pd.Series(pipeline.predict(test[features])).map(ranks)\n",
    "\n",
    "submission = pd.concat([test['match_id'], y_pred], axis = 1).rename(columns = {0: 'rank'})\n",
    "submission.to_csv('../submissions/logreg.csv', index = False)"
   ]
  }
 ],
 "metadata": {
  "interpreter": {
   "hash": "3d6140ef0c675026b0200147df87972487ebc0097827c4c765c9e0dcd9cf7b2f"
  },
  "kernelspec": {
   "display_name": "Python 3.8.8 ('base')",
   "language": "python",
   "name": "python3"
  },
  "language_info": {
   "codemirror_mode": {
    "name": "ipython",
    "version": 3
   },
   "file_extension": ".py",
   "mimetype": "text/x-python",
   "name": "python",
   "nbconvert_exporter": "python",
   "pygments_lexer": "ipython3",
   "version": "3.8.13"
  },
  "orig_nbformat": 4
 },
 "nbformat": 4,
 "nbformat_minor": 2
}
